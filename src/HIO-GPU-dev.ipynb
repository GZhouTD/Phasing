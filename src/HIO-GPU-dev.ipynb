{
 "cells": [
  {
   "cell_type": "code",
   "execution_count": 8,
   "metadata": {
    "collapsed": true
   },
   "outputs": [
    {
     "name": "stdout",
     "output_type": "stream",
     "text": [
      "<Managed Device 0>\n"
     ]
    }
   ],
   "source": [
    "from numba import cuda\n",
    "print(cuda.gpus)"
   ]
  },
  {
   "cell_type": "code",
   "execution_count": 9,
   "metadata": {},
   "outputs": [
    {
     "name": "stdout",
     "output_type": "stream",
     "text": [
      "[[144. 144. 144. 144. 144. 144. 144. 144. 144. 144. 144. 144. 144. 144.\n  144. 144. 144. 144. 144. 144. 144. 144.]\n [144. 144. 144. 144. 144. 144. 144. 144. 144. 144. 144. 144. 144. 144.\n  144. 144. 144. 144. 144. 144. 144. 144.]\n [144. 144. 144. 144. 144. 144. 144. 144. 144. 144. 144. 144. 144. 144.\n  144. 144. 144. 144. 144. 144. 144. 144.]\n [144. 144. 144. 144. 144. 144. 144. 144. 144. 144. 144. 144. 144. 144.\n  144. 144. 144. 144. 144. 144. 144. 144.]\n [144. 144. 144. 144. 144. 144. 144. 144. 144. 144. 144. 144. 144. 144.\n  144. 144. 144. 144. 144. 144. 144. 144.]\n [144. 144. 144. 144. 144. 144. 144. 144. 144. 144. 144. 144. 144. 144.\n  144. 144. 144. 144. 144. 144. 144. 144.]\n [144. 144. 144. 144. 144. 144. 144. 144. 144. 144. 144. 144. 144. 144.\n  144. 144. 144. 144. 144. 144. 144. 144.]\n [144. 144. 144. 144. 144. 144. 144. 144. 144. 144. 144. 144. 144. 144.\n  144. 144. 144. 144. 144. 144. 144. 144.]\n [144. 144. 144. 144. 144. 144. 144. 144. 144. 144. 144. 144. 144. 144.\n  144. 144. 144. 144. 144. 144. 144. 144.]\n [144. 144. 144. 144. 144. 144. 144. 144. 144. 144. 144. 144. 144. 144.\n  144. 144. 144. 144. 144. 144. 144. 144.]\n [144. 144. 144. 144. 144. 144. 144. 144. 144. 144. 144. 144. 144. 144.\n  144. 144. 144. 144. 144. 144. 144. 144.]\n [144. 144. 144. 144. 144. 144. 144. 144. 144. 144. 144. 144. 144. 144.\n  144. 144. 144. 144. 144. 144. 144. 144.]\n [144. 144. 144. 144. 144. 144. 144. 144. 144. 144. 144. 144. 144. 144.\n  144. 144. 144. 144. 144. 144. 144. 144.]\n [144. 144. 144. 144. 144. 144. 144. 144. 144. 144. 144. 144. 144. 144.\n  144. 144. 144. 144. 144. 144. 144. 144.]\n [144. 144. 144. 144. 144. 144. 144. 144. 144. 144. 144. 144. 144. 144.\n  144. 144. 144. 144. 144. 144. 144. 144.]\n [144. 144. 144. 144. 144. 144. 144. 144. 144. 144. 144. 144. 144. 144.\n  144. 144. 144. 144. 144. 144. 144. 144.]\n [144. 144. 144. 144. 144. 144. 144. 144. 144. 144. 144. 144. 144. 144.\n  144. 144. 144. 144. 144. 144. 144. 144.]\n [144. 144. 144. 144. 144. 144. 144. 144. 144. 144. 144. 144. 144. 144.\n  144. 144. 144. 144. 144. 144. 144. 144.]\n [144. 144. 144. 144. 144. 144. 144. 144. 144. 144. 144. 144. 144. 144.\n  144. 144. 144. 144. 144. 144. 144. 144.]\n [144. 144. 144. 144. 144. 144. 144. 144. 144. 144. 144. 144. 144. 144.\n  144. 144. 144. 144. 144. 144. 144. 144.]\n [144. 144. 144. 144. 144. 144. 144. 144. 144. 144. 144. 144. 144. 144.\n  144. 144. 144. 144. 144. 144. 144. 144.]\n [144. 144. 144. 144. 144. 144. 144. 144. 144. 144. 144. 144. 144. 144.\n  144. 144. 144. 144. 144. 144. 144. 144.]\n [144. 144. 144. 144. 144. 144. 144. 144. 144. 144. 144. 144. 144. 144.\n  144. 144. 144. 144. 144. 144. 144. 144.]\n [144. 144. 144. 144. 144. 144. 144. 144. 144. 144. 144. 144. 144. 144.\n  144. 144. 144. 144. 144. 144. 144. 144.]]\n"
     ]
    }
   ],
   "source": [
    "from numba import cuda\n",
    "import numpy\n",
    "import math\n",
    "\n",
    "# CUDA kernel\n",
    "@cuda.jit\n",
    "def matmul(A, B, C):\n",
    "    \"\"\"Perform matrix multiplication of C = A * B\n",
    "    \"\"\"\n",
    "    row, col = cuda.grid(2)\n",
    "    if row < C.shape[0] and col < C.shape[1]:\n",
    "        tmp = 0.\n",
    "        for k in range(A.shape[1]):\n",
    "            tmp += A[row, k] * B[k, col]\n",
    "        C[row, col] = tmp\n",
    "\n",
    "# Host code\n",
    "\n",
    "# Initialize the data arrays\n",
    "A = numpy.full((24, 12), 3, numpy.float)  # matrix containing all 3's\n",
    "B = numpy.full((12, 22), 4, numpy.float)  # matrix containing all 4's\n",
    "\n",
    "# Copy the arrays to the device\n",
    "A_global_mem = cuda.to_device(A)\n",
    "B_global_mem = cuda.to_device(B)\n",
    "\n",
    "# Allocate memory on the device for the result\n",
    "C_global_mem = cuda.device_array((24, 22))\n",
    "\n",
    "# Configure the blocks\n",
    "threadsperblock = (16, 16)\n",
    "blockspergrid_x = int(math.ceil(A.shape[0] / threadsperblock[0]))\n",
    "blockspergrid_y = int(math.ceil(B.shape[1] / threadsperblock[1]))\n",
    "blockspergrid = (blockspergrid_x, blockspergrid_y)\n",
    "\n",
    "# Start the kernel \n",
    "matmul[blockspergrid, threadsperblock](A_global_mem, B_global_mem, C_global_mem)\n",
    "\n",
    "# Copy the result back to the host\n",
    "C = C_global_mem.copy_to_host()\n",
    "\n",
    "print(C)\n"
   ]
  },
  {
   "cell_type": "code",
   "execution_count": null,
   "metadata": {},
   "outputs": [],
   "source": []
  }
 ],
 "metadata": {
  "kernelspec": {
   "display_name": "Python 2",
   "language": "python",
   "name": "python2"
  },
  "language_info": {
   "codemirror_mode": {
    "name": "ipython",
    "version": 2
   },
   "file_extension": ".py",
   "mimetype": "text/x-python",
   "name": "python",
   "nbconvert_exporter": "python",
   "pygments_lexer": "ipython2",
   "version": "2.7.6"
  }
 },
 "nbformat": 4,
 "nbformat_minor": 0
}
