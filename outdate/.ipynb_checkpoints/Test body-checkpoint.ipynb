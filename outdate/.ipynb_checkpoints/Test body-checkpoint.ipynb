{
 "cells": [
  {
   "cell_type": "code",
   "execution_count": 1,
   "metadata": {},
   "outputs": [],
   "source": [
    "import numpy as np\n",
    "import matplotlib.pyplot as plt\n",
    "\n",
    "from numba import jit\n",
    "import math \n",
    "import scipy.spatial as ss\n",
    "import scipy.ndimage"
   ]
  },
  {
   "cell_type": "code",
   "execution_count": 2,
   "metadata": {},
   "outputs": [],
   "source": [
    "@jit\n",
    "def sphere(x,y,z,a,b,c):\n",
    "    # x,y,z are the dimensions of the sphere\n",
    "    # a,b,c are the dimensnions of the space.\n",
    "    space = np.zeros((a,b,c))\n",
    "    center = [a/2,b/2,c/2]\n",
    "    \n",
    "    fx = float(x)\n",
    "    fy = float(y)\n",
    "    fz = float(z)\n",
    "    x  = int(math.floor(x))\n",
    "    y  = int(math.floor(y))\n",
    "    z  = int(math.floor(z))\n",
    "    for l in range(center[0]-x-1, center[0]+x+1):\n",
    "        for m in range(center[1]-y-1, center[1]+y+1):\n",
    "            for n in range(center[2]-z-1, center[2]+z+1):\n",
    "                if ((l - a/2)**2/fx**2+(m - b/2)**2/fy**2+(n - c/2)**2/fy**2<=1):\n",
    "                    space[l,m,n] =1\n",
    "    return space \n",
    "\n",
    "\n",
    "@jit\n",
    "def torus(r1,r2,a=128,b=128,c=128):\n",
    "    \n",
    "    space = np.zeros((a,b,c))\n",
    "    center = [a/2,b/2,c/2]\n",
    "    \n",
    "    for l in range(a/2 - r1 -r2 -1, a/2+r1+r2+1):\n",
    "        for m in range(b/2 - r1 -r2 -1, b/2+r1+r2+1):\n",
    "            for n in range(c/2  -r2 -1, c/2+r2+1):\n",
    "                x = l-a/2\n",
    "                y = m-b/2\n",
    "                z = n-c/2\n",
    "                condition =( (r1 - np.sqrt(x**2+y**2))**2+z**2 <=r2**2)\n",
    "                if condition:\n",
    "                    space[l,m,n]=1\n",
    "    return space\n",
    "\n",
    "def rotate(data,a,b,c):\n",
    "    space  = data[:]\n",
    "    # first rotation\n",
    "    space  = scipy.ndimage.rotate(space, a, axes=(1, 0),\n",
    "                                  reshape=False, output=None, order=3, mode='constant',\n",
    "                                  cval=0.0, prefilter=True)\n",
    "    space  = scipy.ndimage.rotate(space, b, axes=(2, 1),\n",
    "                                  reshape=False, output=None, order=3, mode='constant',\n",
    "                                  cval=0.0, prefilter=True)\n",
    "    space  = scipy.ndimage.rotate(space, c, axes=(1, 0),\n",
    "                                  reshape=False, output=None, order=3, mode='constant',\n",
    "                                  cval=0.0, prefilter=True)\n",
    "    return space\n",
    "    \n",
    "def shift(data,a,b,c):\n",
    "    space = data[:]\n",
    "    space = scipy.ndimage.shift(space, [a,b,c], output=None, order=3,\n",
    "                        mode='constant', cval=0.0, prefilter=True)\n",
    "    return space "
   ]
  },
  {
   "cell_type": "code",
   "execution_count": 3,
   "metadata": {},
   "outputs": [
    {
     "data": {
      "text/plain": [
       "<matplotlib.image.AxesImage at 0x7f8434b99a90>"
      ]
     },
     "execution_count": 3,
     "metadata": {},
     "output_type": "execute_result"
    },
    {
     "data": {
      "image/png": "[encoded data removed]",
      "text/plain": [
       "<matplotlib.figure.Figure at 0x7f843574f850>"
      ]
     },
     "metadata": {},
     "output_type": "display_data"
    }
   ],
   "source": [
    "# Generate a dumb bell\n",
    "sphere1= sphere(3,4,5, 20,20,20)\n",
    "sphere2= sphere(4,3,6, 20,20,20)\n",
    "torus1 = torus(6,2,20,20,20)\n",
    "\n",
    "sample = shift(sphere1, -4,0,0) + shift(sphere2, 4,0,0) + torus1\n",
    "sample = rotate(sample, 23,45,12)\n",
    "\n",
    "## Show this object\n",
    "f, (ax1, ax2, ax3) = plt.subplots(1, 3, sharey=True, figsize=(15,5))\n",
    "ax1.imshow(np.sum(sample,axis=0))\n",
    "ax2.imshow(np.sum(sample,axis=1))\n",
    "ax3.imshow(np.sum(sample,axis=2))"
   ]
  },
  {
   "cell_type": "code",
   "execution_count": 4,
   "metadata": {},
   "outputs": [],
   "source": [
    "np.save('./sample.npy',sample)"
   ]
  },
  {
   "cell_type": "code",
   "execution_count": 3,
   "metadata": {},
   "outputs": [],
   "source": [
    "@jit\n",
    "def produce_volume(condition,a=128,b=128,c=128):\n",
    "    space = np.zeros((a,b,c))\n",
    "    center = [a/2,b/2,c/2]\n",
    "\n",
    "    initial_sign = np.less_equal(condition.dot([10,10,10,1]),np.zeros(condition.shape[0]))\n",
    "    initial_sign= initial_sign[np.newaxis,:]\n",
    "    \n",
    "    for l in range(a):\n",
    "        for m in range(b):\n",
    "            for n in range(c):\n",
    "                sign = np.less_equal(condition.dot([l,m,n,1]),np.zeros(condition.shape[0]))\n",
    "                if np.allclose(sign,initial_sign) :\n",
    "                    space[l,m,n]=1\n",
    "                    \n",
    "    return space"
   ]
  },
  {
   "cell_type": "code",
   "execution_count": 4,
   "metadata": {},
   "outputs": [],
   "source": [
    "def icosahedron(r,a,b,c):\n",
    "    # r define the radius of the shape\n",
    "    # a,b,c are the dimension of the space.\n",
    "    phi = (np.sqrt(5)+1)/2\n",
    "\n",
    "    center = [a/2,b/2,c/2]\n",
    "    \n",
    "    vertexes = []\n",
    "    for y in [-r,r]:\n",
    "        for z in [-phi*r,phi*r]:\n",
    "            vertex=[a/2,b/2+int(y),c/2+int(z)]\n",
    "            vertexes+=[[vertex[i - j] for i in range(3)] for j in range(3)]\n",
    "\n",
    "    convex_hull = ss.ConvexHull(vertexes) \n",
    "    equations = convex_hull.equations\n",
    "\n",
    "    return vertexes,equations\n",
    "\n",
    "def dodecahedron(r,a,b,c):\n",
    "    # r define the radius of the shape\n",
    "    # a,b,c are the dimension of the space.\n",
    "    phi = int((np.sqrt(5)+1)/2*r)\n",
    "    phi_invers = int((2/(np.sqrt(5)+1)*r))\n",
    "    \n",
    "    center = [a/2,b/2,c/2]\n",
    "    \n",
    "    vertexes = []\n",
    "\n",
    "    for u in [-r,r]:\n",
    "        for v in [-r,r]:\n",
    "            for w in [-r,r]:\n",
    "                vertex=[a/2+u,b/2+v,c/2+w]\n",
    "                vertexes+=[vertex ]\n",
    "    \n",
    "    for u in [-phi_invers,phi_invers]:\n",
    "        for v in [-phi,phi]:\n",
    "                vertex=[a/2,b/2+u,c/2+v]\n",
    "                vertexes+=[vertex  ]\n",
    "                \n",
    "    for u in [-phi_invers,phi_invers]:\n",
    "        for v in [-phi,phi]:\n",
    "                vertex=[a/2+u,b/2+v,c/2]\n",
    "                vertexes+=[vertex]\n",
    "                \n",
    "    for u in [-phi_invers,phi_invers]:\n",
    "        for v in [-phi,phi]:\n",
    "                vertex=[a/2+v,b/2,c/2+u]\n",
    "                vertexes+=[vertex]\n",
    "\n",
    "    convex_hull = ss.ConvexHull(vertexes) \n",
    "    equations = convex_hull.equations\n",
    "    return equations"
   ]
  },
  {
   "cell_type": "code",
   "execution_count": 15,
   "metadata": {},
   "outputs": [
    {
     "name": "stdout",
     "output_type": "stream",
     "text": [
      "This is spada\n"
     ]
    },
    {
     "ename": "KeyboardInterrupt",
     "evalue": "",
     "output_type": "error",
     "traceback": [
      "\u001b[0;31m---------------------------------------------------------------------------\u001b[0m",
      "\u001b[0;31mKeyboardInterrupt\u001b[0m                         Traceback (most recent call last)",
      "\u001b[0;32m<ipython-input-15-dc13d56b42f8>\u001b[0m in \u001b[0;36m<module>\u001b[0;34m()\u001b[0m\n\u001b[1;32m      1\u001b[0m \u001b[0mequaiton\u001b[0m \u001b[0;34m=\u001b[0m \u001b[0mdodecahedron\u001b[0m\u001b[0;34m(\u001b[0m\u001b[0;36m5\u001b[0m\u001b[0;34m,\u001b[0m\u001b[0;36m128\u001b[0m\u001b[0;34m,\u001b[0m\u001b[0;36m128\u001b[0m\u001b[0;34m,\u001b[0m\u001b[0;36m128\u001b[0m\u001b[0;34m)\u001b[0m\u001b[0;34m\u001b[0m\u001b[0m\n\u001b[1;32m      2\u001b[0m \u001b[0;32mprint\u001b[0m \u001b[0;34m\"This is spada\"\u001b[0m\u001b[0;34m\u001b[0m\u001b[0m\n\u001b[0;32m----> 3\u001b[0;31m \u001b[0mbody\u001b[0m     \u001b[0;34m=\u001b[0m \u001b[0mproduce_volume\u001b[0m\u001b[0;34m(\u001b[0m\u001b[0mequaiton\u001b[0m\u001b[0;34m,\u001b[0m \u001b[0;36m128\u001b[0m\u001b[0;34m,\u001b[0m \u001b[0;36m128\u001b[0m\u001b[0;34m,\u001b[0m \u001b[0;36m128\u001b[0m\u001b[0;34m)\u001b[0m\u001b[0;34m\u001b[0m\u001b[0m\n\u001b[0m",
      "\u001b[0;32m/home/haoyuan/software/anaconda2/envs/Phasing-dev/lib/python2.7/site-packages/numpy/core/numeric.pyc\u001b[0m in \u001b[0;36mallclose\u001b[0;34m(a, b, rtol, atol, equal_nan)\u001b[0m\n\u001b[1;32m   2214\u001b[0m     \u001b[0;32mreturn\u001b[0m \u001b[0meye\u001b[0m\u001b[0;34m(\u001b[0m\u001b[0mn\u001b[0m\u001b[0;34m,\u001b[0m \u001b[0mdtype\u001b[0m\u001b[0;34m=\u001b[0m\u001b[0mdtype\u001b[0m\u001b[0;34m)\u001b[0m\u001b[0;34m\u001b[0m\u001b[0m\n\u001b[1;32m   2215\u001b[0m \u001b[0;34m\u001b[0m\u001b[0m\n\u001b[0;32m-> 2216\u001b[0;31m \u001b[0;32mdef\u001b[0m \u001b[0mallclose\u001b[0m\u001b[0;34m(\u001b[0m\u001b[0ma\u001b[0m\u001b[0;34m,\u001b[0m \u001b[0mb\u001b[0m\u001b[0;34m,\u001b[0m \u001b[0mrtol\u001b[0m\u001b[0;34m=\u001b[0m\u001b[0;36m1.e-5\u001b[0m\u001b[0;34m,\u001b[0m \u001b[0matol\u001b[0m\u001b[0;34m=\u001b[0m\u001b[0;36m1.e-8\u001b[0m\u001b[0;34m,\u001b[0m \u001b[0mequal_nan\u001b[0m\u001b[0;34m=\u001b[0m\u001b[0mFalse\u001b[0m\u001b[0;34m)\u001b[0m\u001b[0;34m:\u001b[0m\u001b[0;34m\u001b[0m\u001b[0m\n\u001b[0m\u001b[1;32m   2217\u001b[0m     \"\"\"\n\u001b[1;32m   2218\u001b[0m     \u001b[0mReturns\u001b[0m \u001b[0mTrue\u001b[0m \u001b[0;32mif\u001b[0m \u001b[0mtwo\u001b[0m \u001b[0marrays\u001b[0m \u001b[0mare\u001b[0m \u001b[0melement\u001b[0m\u001b[0;34m-\u001b[0m\u001b[0mwise\u001b[0m \u001b[0mequal\u001b[0m \u001b[0mwithin\u001b[0m \u001b[0ma\u001b[0m \u001b[0mtolerance\u001b[0m\u001b[0;34m.\u001b[0m\u001b[0;34m\u001b[0m\u001b[0m\n",
      "\u001b[0;31mKeyboardInterrupt\u001b[0m: "
     ]
    }
   ],
   "source": [
    "equaiton = dodecahedron(5,128,128,128)\n",
    "print \"This is spada\"\n",
    "body     = produce_volume(equaiton, 128, 128, 128)"
   ]
  },
  {
   "cell_type": "code",
   "execution_count": 14,
   "metadata": {},
   "outputs": [
    {
     "data": {
      "text/plain": [
       "<matplotlib.image.AxesImage at 0x7f1ed9319050>"
      ]
     },
     "execution_count": 14,
     "metadata": {},
     "output_type": "execute_result"
    },
    {
     "data": {
      "image/png": "[encoded data removed]",
      "text/plain": [
       "<matplotlib.figure.Figure at 0x7f1ed8d4a150>"
      ]
     },
     "metadata": {},
     "output_type": "display_data"
    }
   ],
   "source": [
    "sample = rotate(body , 20,30,50)\n",
    "\n",
    "f, (ax1, ax2, ax3) = plt.subplots(1, 3, sharey=True, figsize=(15,5))\n",
    "ax1.imshow(np.sum(sample,axis=0))\n",
    "ax2.imshow(np.sum(sample,axis=1))\n",
    "ax3.imshow(np.sum(sample,axis=2))\n"
   ]
  },
  {
   "cell_type": "code",
   "execution_count": 21,
   "metadata": {},
   "outputs": [],
   "source": [
    "np.save('./sample_regular.npy',sample)"
   ]
  },
  {
   "cell_type": "code",
   "execution_count": null,
   "metadata": {},
   "outputs": [],
   "source": []
  }
 ],
 "metadata": {
  "kernelspec": {
   "display_name": "Python 3",
   "language": "python",
   "name": "python3"
  },
  "language_info": {
   "codemirror_mode": {
    "name": "ipython",
    "version": 3
   },
   "file_extension": ".py",
   "mimetype": "text/x-python",
   "name": "python",
   "nbconvert_exporter": "python",
   "pygments_lexer": "ipython3",
   "version": "3.6.7"
  }
 },
 "nbformat": 4,
 "nbformat_minor": 2
}
